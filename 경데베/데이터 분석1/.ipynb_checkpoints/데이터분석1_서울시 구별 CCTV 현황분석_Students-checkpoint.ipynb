{
 "cells": [
  {
   "cell_type": "markdown",
   "metadata": {},
   "source": [
    "# 서울시 구별 CCTV 현황 분석하기\n",
    "\n",
    "### 본 장은 [\"민형기 저자의 파이썬으로 데이터 주무르기\"](https://pinkwink.kr) 1장 내용입니다."
   ]
  },
  {
   "cell_type": "markdown",
   "metadata": {},
   "source": [
    "## 분석 목표\n",
    "* 서울시 각 구별 CCTV수를 파악하고, 인구대비 CCTV 비율을 파악해서 순위 비교\n",
    "* 인구대비 CCTV의 평균치를 확인하고 그로부터 CCTV가 과하게 부족한 구를 확인.\n",
    "\n",
    "## 파이썬 공부 목표\n",
    "* JupyterLab 사용환경을 익히고 Python 기본 문법을 확인\n",
    "* Pandas와 Matplotlib의 기본적 사용법을 확인\n",
    "* 단순한 그래프 표현에서 한 단계 더 나아가 경향을 확인하고 시각화하는 기초 확인"
   ]
  },
  {
   "cell_type": "code",
   "execution_count": 1,
   "metadata": {
    "collapsed": true
   },
   "outputs": [],
   "source": [
    "# pandas 패키지 불러오기\n",
    "import pandas as pd"
   ]
  },
  {
   "cell_type": "code",
   "execution_count": 5,
   "metadata": {},
   "outputs": [
    {
     "data": {
      "text/html": [
       "<div>\n",
       "<style scoped>\n",
       "    .dataframe tbody tr th:only-of-type {\n",
       "        vertical-align: middle;\n",
       "    }\n",
       "\n",
       "    .dataframe tbody tr th {\n",
       "        vertical-align: top;\n",
       "    }\n",
       "\n",
       "    .dataframe thead th {\n",
       "        text-align: right;\n",
       "    }\n",
       "</style>\n",
       "<table border=\"1\" class=\"dataframe\">\n",
       "  <thead>\n",
       "    <tr style=\"text-align: right;\">\n",
       "      <th></th>\n",
       "      <th>기관명</th>\n",
       "      <th>소계</th>\n",
       "      <th>2013년도 이전</th>\n",
       "      <th>2014년</th>\n",
       "      <th>2015년</th>\n",
       "      <th>2016년</th>\n",
       "    </tr>\n",
       "  </thead>\n",
       "  <tbody>\n",
       "    <tr>\n",
       "      <th>0</th>\n",
       "      <td>강남구</td>\n",
       "      <td>3238</td>\n",
       "      <td>1292</td>\n",
       "      <td>430</td>\n",
       "      <td>584</td>\n",
       "      <td>932</td>\n",
       "    </tr>\n",
       "    <tr>\n",
       "      <th>1</th>\n",
       "      <td>강동구</td>\n",
       "      <td>1010</td>\n",
       "      <td>379</td>\n",
       "      <td>99</td>\n",
       "      <td>155</td>\n",
       "      <td>377</td>\n",
       "    </tr>\n",
       "    <tr>\n",
       "      <th>2</th>\n",
       "      <td>강북구</td>\n",
       "      <td>831</td>\n",
       "      <td>369</td>\n",
       "      <td>120</td>\n",
       "      <td>138</td>\n",
       "      <td>204</td>\n",
       "    </tr>\n",
       "    <tr>\n",
       "      <th>3</th>\n",
       "      <td>강서구</td>\n",
       "      <td>911</td>\n",
       "      <td>388</td>\n",
       "      <td>258</td>\n",
       "      <td>184</td>\n",
       "      <td>81</td>\n",
       "    </tr>\n",
       "    <tr>\n",
       "      <th>4</th>\n",
       "      <td>관악구</td>\n",
       "      <td>2109</td>\n",
       "      <td>846</td>\n",
       "      <td>260</td>\n",
       "      <td>390</td>\n",
       "      <td>613</td>\n",
       "    </tr>\n",
       "  </tbody>\n",
       "</table>\n",
       "</div>"
      ],
      "text/plain": [
       "   기관명    소계  2013년도 이전  2014년  2015년  2016년\n",
       "0  강남구  3238       1292    430    584    932\n",
       "1  강동구  1010        379     99    155    377\n",
       "2  강북구   831        369    120    138    204\n",
       "3  강서구   911        388    258    184     81\n",
       "4  관악구  2109        846    260    390    613"
      ]
     },
     "execution_count": 5,
     "metadata": {},
     "output_type": "execute_result"
    }
   ],
   "source": [
    "# 자료 불러오기\n",
    "CCTV_Seoul = pd.read_csv(\"CCTV_Seoul.csv\", encoding=\"utf-8\")\n",
    "CCTV_Seoul.head()"
   ]
  },
  {
   "cell_type": "code",
   "execution_count": 6,
   "metadata": {},
   "outputs": [
    {
     "data": {
      "text/plain": [
       "Index(['기관명', '소계', '2013년도 이전', '2014년', '2015년', '2016년'], dtype='object')"
      ]
     },
     "execution_count": 6,
     "metadata": {},
     "output_type": "execute_result"
    }
   ],
   "source": [
    "# 컬럼명 조회\n",
    "CCTV_Seoul.columns"
   ]
  },
  {
   "cell_type": "code",
   "execution_count": 7,
   "metadata": {},
   "outputs": [
    {
     "data": {
      "text/plain": [
       "'기관명'"
      ]
     },
     "execution_count": 7,
     "metadata": {},
     "output_type": "execute_result"
    }
   ],
   "source": [
    "# 첫 번째 컬럼명 조회\n",
    "CCTV_Seoul.columns[0]"
   ]
  },
  {
   "cell_type": "code",
   "execution_count": 8,
   "metadata": {},
   "outputs": [
    {
     "data": {
      "text/html": [
       "<div>\n",
       "<style scoped>\n",
       "    .dataframe tbody tr th:only-of-type {\n",
       "        vertical-align: middle;\n",
       "    }\n",
       "\n",
       "    .dataframe tbody tr th {\n",
       "        vertical-align: top;\n",
       "    }\n",
       "\n",
       "    .dataframe thead th {\n",
       "        text-align: right;\n",
       "    }\n",
       "</style>\n",
       "<table border=\"1\" class=\"dataframe\">\n",
       "  <thead>\n",
       "    <tr style=\"text-align: right;\">\n",
       "      <th></th>\n",
       "      <th>구별</th>\n",
       "      <th>소계</th>\n",
       "      <th>2013년도 이전</th>\n",
       "      <th>2014년</th>\n",
       "      <th>2015년</th>\n",
       "      <th>2016년</th>\n",
       "    </tr>\n",
       "  </thead>\n",
       "  <tbody>\n",
       "    <tr>\n",
       "      <th>0</th>\n",
       "      <td>강남구</td>\n",
       "      <td>3238</td>\n",
       "      <td>1292</td>\n",
       "      <td>430</td>\n",
       "      <td>584</td>\n",
       "      <td>932</td>\n",
       "    </tr>\n",
       "    <tr>\n",
       "      <th>1</th>\n",
       "      <td>강동구</td>\n",
       "      <td>1010</td>\n",
       "      <td>379</td>\n",
       "      <td>99</td>\n",
       "      <td>155</td>\n",
       "      <td>377</td>\n",
       "    </tr>\n",
       "    <tr>\n",
       "      <th>2</th>\n",
       "      <td>강북구</td>\n",
       "      <td>831</td>\n",
       "      <td>369</td>\n",
       "      <td>120</td>\n",
       "      <td>138</td>\n",
       "      <td>204</td>\n",
       "    </tr>\n",
       "    <tr>\n",
       "      <th>3</th>\n",
       "      <td>강서구</td>\n",
       "      <td>911</td>\n",
       "      <td>388</td>\n",
       "      <td>258</td>\n",
       "      <td>184</td>\n",
       "      <td>81</td>\n",
       "    </tr>\n",
       "    <tr>\n",
       "      <th>4</th>\n",
       "      <td>관악구</td>\n",
       "      <td>2109</td>\n",
       "      <td>846</td>\n",
       "      <td>260</td>\n",
       "      <td>390</td>\n",
       "      <td>613</td>\n",
       "    </tr>\n",
       "  </tbody>\n",
       "</table>\n",
       "</div>"
      ],
      "text/plain": [
       "    구별    소계  2013년도 이전  2014년  2015년  2016년\n",
       "0  강남구  3238       1292    430    584    932\n",
       "1  강동구  1010        379     99    155    377\n",
       "2  강북구   831        369    120    138    204\n",
       "3  강서구   911        388    258    184     81\n",
       "4  관악구  2109        846    260    390    613"
      ]
     },
     "execution_count": 8,
     "metadata": {},
     "output_type": "execute_result"
    }
   ],
   "source": [
    "# 첫 번째 컬럼명을 '기관명'에서 '구별'로 바꾸는 것이 좋을 듯함.\n",
    "CCTV_Seoul.rename(columns={CCTV_Seoul.columns[0]: '구별'}, inplace=True)\n",
    "CCTV_Seoul.head()"
   ]
  },
  {
   "cell_type": "markdown",
   "metadata": {},
   "source": [
    "## 2-2. 엑셀파일 읽기 - 서울시 인구현황"
   ]
  },
  {
   "cell_type": "code",
   "execution_count": 21,
   "metadata": {},
   "outputs": [
    {
     "data": {
      "text/html": [
       "<div>\n",
       "<style scoped>\n",
       "    .dataframe tbody tr th:only-of-type {\n",
       "        vertical-align: middle;\n",
       "    }\n",
       "\n",
       "    .dataframe tbody tr th {\n",
       "        vertical-align: top;\n",
       "    }\n",
       "\n",
       "    .dataframe thead th {\n",
       "        text-align: right;\n",
       "    }\n",
       "</style>\n",
       "<table border=\"1\" class=\"dataframe\">\n",
       "  <thead>\n",
       "    <tr style=\"text-align: right;\">\n",
       "      <th></th>\n",
       "      <th>Unnamed: 0</th>\n",
       "      <th>2-1. 세대 및 인구상세</th>\n",
       "      <th>Unnamed: 2</th>\n",
       "      <th>Unnamed: 3</th>\n",
       "      <th>Unnamed: 4</th>\n",
       "      <th>Unnamed: 5</th>\n",
       "      <th>Unnamed: 6</th>\n",
       "      <th>Unnamed: 7</th>\n",
       "      <th>Unnamed: 8</th>\n",
       "      <th>Unnamed: 9</th>\n",
       "      <th>...</th>\n",
       "      <th>Unnamed: 26</th>\n",
       "      <th>Unnamed: 27</th>\n",
       "      <th>Unnamed: 28</th>\n",
       "      <th>Unnamed: 29</th>\n",
       "      <th>Unnamed: 30</th>\n",
       "      <th>Unnamed: 31</th>\n",
       "      <th>Unnamed: 32</th>\n",
       "      <th>Unnamed: 33</th>\n",
       "      <th>Unnamed: 34</th>\n",
       "      <th>Unnamed: 35</th>\n",
       "    </tr>\n",
       "  </thead>\n",
       "  <tbody>\n",
       "    <tr>\n",
       "      <th>0</th>\n",
       "      <td>NaN</td>\n",
       "      <td>NaN</td>\n",
       "      <td>NaN</td>\n",
       "      <td>NaN</td>\n",
       "      <td>NaN</td>\n",
       "      <td>NaN</td>\n",
       "      <td>NaN</td>\n",
       "      <td>NaN</td>\n",
       "      <td>NaN</td>\n",
       "      <td>NaN</td>\n",
       "      <td>...</td>\n",
       "      <td>NaN</td>\n",
       "      <td>NaN</td>\n",
       "      <td>NaN</td>\n",
       "      <td>NaN</td>\n",
       "      <td>NaN</td>\n",
       "      <td>NaN</td>\n",
       "      <td>NaN</td>\n",
       "      <td>NaN</td>\n",
       "      <td>NaN</td>\n",
       "      <td>NaN</td>\n",
       "    </tr>\n",
       "    <tr>\n",
       "      <th>1</th>\n",
       "      <td>NaN</td>\n",
       "      <td>* 행정동 기준</td>\n",
       "      <td>NaN</td>\n",
       "      <td>NaN</td>\n",
       "      <td>NaN</td>\n",
       "      <td>NaN</td>\n",
       "      <td>NaN</td>\n",
       "      <td>NaN</td>\n",
       "      <td>NaN</td>\n",
       "      <td>NaN</td>\n",
       "      <td>...</td>\n",
       "      <td>NaN</td>\n",
       "      <td>NaN</td>\n",
       "      <td>NaN</td>\n",
       "      <td>NaN</td>\n",
       "      <td>NaN</td>\n",
       "      <td>NaN</td>\n",
       "      <td>NaN</td>\n",
       "      <td>NaN</td>\n",
       "      <td>NaN</td>\n",
       "      <td>NaN</td>\n",
       "    </tr>\n",
       "    <tr>\n",
       "      <th>2</th>\n",
       "      <td>NaN</td>\n",
       "      <td>구 분</td>\n",
       "      <td>세  대</td>\n",
       "      <td>총     인     구</td>\n",
       "      <td>NaN</td>\n",
       "      <td>NaN</td>\n",
       "      <td>내     국      인</td>\n",
       "      <td>NaN</td>\n",
       "      <td>NaN</td>\n",
       "      <td>외     국     인</td>\n",
       "      <td>...</td>\n",
       "      <td>NaN</td>\n",
       "      <td>NaN</td>\n",
       "      <td>NaN</td>\n",
       "      <td>NaN</td>\n",
       "      <td>NaN</td>\n",
       "      <td>NaN</td>\n",
       "      <td>NaN</td>\n",
       "      <td>NaN</td>\n",
       "      <td>NaN</td>\n",
       "      <td>NaN</td>\n",
       "    </tr>\n",
       "    <tr>\n",
       "      <th>3</th>\n",
       "      <td>그룹</td>\n",
       "      <td>NaN</td>\n",
       "      <td>NaN</td>\n",
       "      <td>계</td>\n",
       "      <td>남</td>\n",
       "      <td>여</td>\n",
       "      <td>계</td>\n",
       "      <td>남</td>\n",
       "      <td>여</td>\n",
       "      <td>계</td>\n",
       "      <td>...</td>\n",
       "      <td>NaN</td>\n",
       "      <td>NaN</td>\n",
       "      <td>NaN</td>\n",
       "      <td>NaN</td>\n",
       "      <td>NaN</td>\n",
       "      <td>NaN</td>\n",
       "      <td>NaN</td>\n",
       "      <td>NaN</td>\n",
       "      <td>NaN</td>\n",
       "      <td>NaN</td>\n",
       "    </tr>\n",
       "    <tr>\n",
       "      <th>4</th>\n",
       "      <td>NaN</td>\n",
       "      <td>서울특별시</td>\n",
       "      <td>4,220,082</td>\n",
       "      <td>10,124,579</td>\n",
       "      <td>4,957,857</td>\n",
       "      <td>5,166,722</td>\n",
       "      <td>9,857,426</td>\n",
       "      <td>4,830,206</td>\n",
       "      <td>5,027,220</td>\n",
       "      <td>267,153</td>\n",
       "      <td>...</td>\n",
       "      <td>NaN</td>\n",
       "      <td>NaN</td>\n",
       "      <td>NaN</td>\n",
       "      <td>NaN</td>\n",
       "      <td>NaN</td>\n",
       "      <td>NaN</td>\n",
       "      <td>NaN</td>\n",
       "      <td>NaN</td>\n",
       "      <td>NaN</td>\n",
       "      <td>NaN</td>\n",
       "    </tr>\n",
       "    <tr>\n",
       "      <th>5</th>\n",
       "      <td>NaN</td>\n",
       "      <td>종로구</td>\n",
       "      <td>73,594</td>\n",
       "      <td>164,257</td>\n",
       "      <td>80,094</td>\n",
       "      <td>84,163</td>\n",
       "      <td>154,770</td>\n",
       "      <td>75,967</td>\n",
       "      <td>78,803</td>\n",
       "      <td>9,487</td>\n",
       "      <td>...</td>\n",
       "      <td>NaN</td>\n",
       "      <td>NaN</td>\n",
       "      <td>NaN</td>\n",
       "      <td>NaN</td>\n",
       "      <td>NaN</td>\n",
       "      <td>NaN</td>\n",
       "      <td>NaN</td>\n",
       "      <td>NaN</td>\n",
       "      <td>NaN</td>\n",
       "      <td>NaN</td>\n",
       "    </tr>\n",
       "    <tr>\n",
       "      <th>6</th>\n",
       "      <td>NaN</td>\n",
       "      <td>중구</td>\n",
       "      <td>60,412</td>\n",
       "      <td>134,593</td>\n",
       "      <td>66,337</td>\n",
       "      <td>68,256</td>\n",
       "      <td>125,709</td>\n",
       "      <td>62,253</td>\n",
       "      <td>63,456</td>\n",
       "      <td>8,884</td>\n",
       "      <td>...</td>\n",
       "      <td>NaN</td>\n",
       "      <td>NaN</td>\n",
       "      <td>NaN</td>\n",
       "      <td>NaN</td>\n",
       "      <td>NaN</td>\n",
       "      <td>NaN</td>\n",
       "      <td>NaN</td>\n",
       "      <td>NaN</td>\n",
       "      <td>NaN</td>\n",
       "      <td>NaN</td>\n",
       "    </tr>\n",
       "    <tr>\n",
       "      <th>7</th>\n",
       "      <td>NaN</td>\n",
       "      <td>용산구</td>\n",
       "      <td>107,666</td>\n",
       "      <td>244,444</td>\n",
       "      <td>119,423</td>\n",
       "      <td>125,021</td>\n",
       "      <td>229,161</td>\n",
       "      <td>110,878</td>\n",
       "      <td>118,283</td>\n",
       "      <td>15,283</td>\n",
       "      <td>...</td>\n",
       "      <td>NaN</td>\n",
       "      <td>NaN</td>\n",
       "      <td>NaN</td>\n",
       "      <td>NaN</td>\n",
       "      <td>NaN</td>\n",
       "      <td>NaN</td>\n",
       "      <td>NaN</td>\n",
       "      <td>NaN</td>\n",
       "      <td>NaN</td>\n",
       "      <td>NaN</td>\n",
       "    </tr>\n",
       "    <tr>\n",
       "      <th>8</th>\n",
       "      <td>NaN</td>\n",
       "      <td>성동구</td>\n",
       "      <td>132,902</td>\n",
       "      <td>312,711</td>\n",
       "      <td>154,077</td>\n",
       "      <td>158,634</td>\n",
       "      <td>304,808</td>\n",
       "      <td>150,368</td>\n",
       "      <td>154,440</td>\n",
       "      <td>7,903</td>\n",
       "      <td>...</td>\n",
       "      <td>NaN</td>\n",
       "      <td>NaN</td>\n",
       "      <td>NaN</td>\n",
       "      <td>NaN</td>\n",
       "      <td>NaN</td>\n",
       "      <td>NaN</td>\n",
       "      <td>NaN</td>\n",
       "      <td>NaN</td>\n",
       "      <td>NaN</td>\n",
       "      <td>NaN</td>\n",
       "    </tr>\n",
       "    <tr>\n",
       "      <th>9</th>\n",
       "      <td>NaN</td>\n",
       "      <td>광진구</td>\n",
       "      <td>160,798</td>\n",
       "      <td>372,298</td>\n",
       "      <td>180,645</td>\n",
       "      <td>191,653</td>\n",
       "      <td>357,703</td>\n",
       "      <td>174,414</td>\n",
       "      <td>183,289</td>\n",
       "      <td>14,595</td>\n",
       "      <td>...</td>\n",
       "      <td>NaN</td>\n",
       "      <td>NaN</td>\n",
       "      <td>NaN</td>\n",
       "      <td>NaN</td>\n",
       "      <td>NaN</td>\n",
       "      <td>NaN</td>\n",
       "      <td>NaN</td>\n",
       "      <td>NaN</td>\n",
       "      <td>NaN</td>\n",
       "      <td>NaN</td>\n",
       "    </tr>\n",
       "    <tr>\n",
       "      <th>10</th>\n",
       "      <td>NaN</td>\n",
       "      <td>동대문구</td>\n",
       "      <td>159,938</td>\n",
       "      <td>366,011</td>\n",
       "      <td>181,185</td>\n",
       "      <td>184,826</td>\n",
       "      <td>350,647</td>\n",
       "      <td>175,324</td>\n",
       "      <td>175,323</td>\n",
       "      <td>15,364</td>\n",
       "      <td>...</td>\n",
       "      <td>NaN</td>\n",
       "      <td>NaN</td>\n",
       "      <td>NaN</td>\n",
       "      <td>NaN</td>\n",
       "      <td>NaN</td>\n",
       "      <td>NaN</td>\n",
       "      <td>NaN</td>\n",
       "      <td>NaN</td>\n",
       "      <td>NaN</td>\n",
       "      <td>NaN</td>\n",
       "    </tr>\n",
       "    <tr>\n",
       "      <th>11</th>\n",
       "      <td>NaN</td>\n",
       "      <td>중랑구</td>\n",
       "      <td>179,132</td>\n",
       "      <td>412,780</td>\n",
       "      <td>205,125</td>\n",
       "      <td>207,655</td>\n",
       "      <td>408,226</td>\n",
       "      <td>203,325</td>\n",
       "      <td>204,901</td>\n",
       "      <td>4,554</td>\n",
       "      <td>...</td>\n",
       "      <td>NaN</td>\n",
       "      <td>NaN</td>\n",
       "      <td>NaN</td>\n",
       "      <td>NaN</td>\n",
       "      <td>NaN</td>\n",
       "      <td>NaN</td>\n",
       "      <td>NaN</td>\n",
       "      <td>NaN</td>\n",
       "      <td>NaN</td>\n",
       "      <td>NaN</td>\n",
       "    </tr>\n",
       "    <tr>\n",
       "      <th>12</th>\n",
       "      <td>NaN</td>\n",
       "      <td>성북구</td>\n",
       "      <td>187,112</td>\n",
       "      <td>455,407</td>\n",
       "      <td>221,103</td>\n",
       "      <td>234,304</td>\n",
       "      <td>444,055</td>\n",
       "      <td>216,556</td>\n",
       "      <td>227,499</td>\n",
       "      <td>11,352</td>\n",
       "      <td>...</td>\n",
       "      <td>NaN</td>\n",
       "      <td>NaN</td>\n",
       "      <td>NaN</td>\n",
       "      <td>NaN</td>\n",
       "      <td>NaN</td>\n",
       "      <td>NaN</td>\n",
       "      <td>NaN</td>\n",
       "      <td>NaN</td>\n",
       "      <td>NaN</td>\n",
       "      <td>NaN</td>\n",
       "    </tr>\n",
       "    <tr>\n",
       "      <th>13</th>\n",
       "      <td>NaN</td>\n",
       "      <td>강북구</td>\n",
       "      <td>142,533</td>\n",
       "      <td>328,002</td>\n",
       "      <td>160,252</td>\n",
       "      <td>167,750</td>\n",
       "      <td>324,479</td>\n",
       "      <td>158,918</td>\n",
       "      <td>165,561</td>\n",
       "      <td>3,523</td>\n",
       "      <td>...</td>\n",
       "      <td>NaN</td>\n",
       "      <td>NaN</td>\n",
       "      <td>NaN</td>\n",
       "      <td>NaN</td>\n",
       "      <td>NaN</td>\n",
       "      <td>NaN</td>\n",
       "      <td>NaN</td>\n",
       "      <td>NaN</td>\n",
       "      <td>NaN</td>\n",
       "      <td>NaN</td>\n",
       "    </tr>\n",
       "    <tr>\n",
       "      <th>14</th>\n",
       "      <td>NaN</td>\n",
       "      <td>도봉구</td>\n",
       "      <td>137,378</td>\n",
       "      <td>346,234</td>\n",
       "      <td>169,553</td>\n",
       "      <td>176,681</td>\n",
       "      <td>344,166</td>\n",
       "      <td>168,759</td>\n",
       "      <td>175,407</td>\n",
       "      <td>2,068</td>\n",
       "      <td>...</td>\n",
       "      <td>NaN</td>\n",
       "      <td>NaN</td>\n",
       "      <td>NaN</td>\n",
       "      <td>NaN</td>\n",
       "      <td>NaN</td>\n",
       "      <td>NaN</td>\n",
       "      <td>NaN</td>\n",
       "      <td>NaN</td>\n",
       "      <td>NaN</td>\n",
       "      <td>NaN</td>\n",
       "    </tr>\n",
       "    <tr>\n",
       "      <th>15</th>\n",
       "      <td>NaN</td>\n",
       "      <td>노원구</td>\n",
       "      <td>217,619</td>\n",
       "      <td>558,075</td>\n",
       "      <td>271,025</td>\n",
       "      <td>287,050</td>\n",
       "      <td>554,403</td>\n",
       "      <td>269,508</td>\n",
       "      <td>284,895</td>\n",
       "      <td>3,672</td>\n",
       "      <td>...</td>\n",
       "      <td>NaN</td>\n",
       "      <td>NaN</td>\n",
       "      <td>NaN</td>\n",
       "      <td>NaN</td>\n",
       "      <td>NaN</td>\n",
       "      <td>NaN</td>\n",
       "      <td>NaN</td>\n",
       "      <td>NaN</td>\n",
       "      <td>NaN</td>\n",
       "      <td>NaN</td>\n",
       "    </tr>\n",
       "    <tr>\n",
       "      <th>16</th>\n",
       "      <td>NaN</td>\n",
       "      <td>은평구</td>\n",
       "      <td>202,839</td>\n",
       "      <td>491,202</td>\n",
       "      <td>238,223</td>\n",
       "      <td>252,979</td>\n",
       "      <td>486,794</td>\n",
       "      <td>236,353</td>\n",
       "      <td>250,441</td>\n",
       "      <td>4,408</td>\n",
       "      <td>...</td>\n",
       "      <td>NaN</td>\n",
       "      <td>NaN</td>\n",
       "      <td>NaN</td>\n",
       "      <td>NaN</td>\n",
       "      <td>NaN</td>\n",
       "      <td>NaN</td>\n",
       "      <td>NaN</td>\n",
       "      <td>NaN</td>\n",
       "      <td>NaN</td>\n",
       "      <td>NaN</td>\n",
       "    </tr>\n",
       "    <tr>\n",
       "      <th>17</th>\n",
       "      <td>NaN</td>\n",
       "      <td>서대문구</td>\n",
       "      <td>137,266</td>\n",
       "      <td>325,028</td>\n",
       "      <td>155,250</td>\n",
       "      <td>169,778</td>\n",
       "      <td>312,800</td>\n",
       "      <td>151,144</td>\n",
       "      <td>161,656</td>\n",
       "      <td>12,228</td>\n",
       "      <td>...</td>\n",
       "      <td>NaN</td>\n",
       "      <td>NaN</td>\n",
       "      <td>NaN</td>\n",
       "      <td>NaN</td>\n",
       "      <td>NaN</td>\n",
       "      <td>NaN</td>\n",
       "      <td>NaN</td>\n",
       "      <td>NaN</td>\n",
       "      <td>NaN</td>\n",
       "      <td>NaN</td>\n",
       "    </tr>\n",
       "    <tr>\n",
       "      <th>18</th>\n",
       "      <td>NaN</td>\n",
       "      <td>마포구</td>\n",
       "      <td>169,408</td>\n",
       "      <td>385,783</td>\n",
       "      <td>183,248</td>\n",
       "      <td>202,535</td>\n",
       "      <td>374,915</td>\n",
       "      <td>178,939</td>\n",
       "      <td>195,976</td>\n",
       "      <td>10,868</td>\n",
       "      <td>...</td>\n",
       "      <td>NaN</td>\n",
       "      <td>NaN</td>\n",
       "      <td>NaN</td>\n",
       "      <td>NaN</td>\n",
       "      <td>NaN</td>\n",
       "      <td>NaN</td>\n",
       "      <td>NaN</td>\n",
       "      <td>NaN</td>\n",
       "      <td>NaN</td>\n",
       "      <td>NaN</td>\n",
       "    </tr>\n",
       "    <tr>\n",
       "      <th>19</th>\n",
       "      <td>NaN</td>\n",
       "      <td>양천구</td>\n",
       "      <td>176,649</td>\n",
       "      <td>475,018</td>\n",
       "      <td>234,279</td>\n",
       "      <td>240,739</td>\n",
       "      <td>471,154</td>\n",
       "      <td>232,518</td>\n",
       "      <td>238,636</td>\n",
       "      <td>3,864</td>\n",
       "      <td>...</td>\n",
       "      <td>NaN</td>\n",
       "      <td>NaN</td>\n",
       "      <td>NaN</td>\n",
       "      <td>NaN</td>\n",
       "      <td>NaN</td>\n",
       "      <td>NaN</td>\n",
       "      <td>NaN</td>\n",
       "      <td>NaN</td>\n",
       "      <td>NaN</td>\n",
       "      <td>NaN</td>\n",
       "    </tr>\n",
       "    <tr>\n",
       "      <th>20</th>\n",
       "      <td>NaN</td>\n",
       "      <td>강서구</td>\n",
       "      <td>254,257</td>\n",
       "      <td>608,255</td>\n",
       "      <td>296,175</td>\n",
       "      <td>312,080</td>\n",
       "      <td>601,691</td>\n",
       "      <td>292,989</td>\n",
       "      <td>308,702</td>\n",
       "      <td>6,564</td>\n",
       "      <td>...</td>\n",
       "      <td>NaN</td>\n",
       "      <td>NaN</td>\n",
       "      <td>NaN</td>\n",
       "      <td>NaN</td>\n",
       "      <td>NaN</td>\n",
       "      <td>NaN</td>\n",
       "      <td>NaN</td>\n",
       "      <td>NaN</td>\n",
       "      <td>NaN</td>\n",
       "      <td>NaN</td>\n",
       "    </tr>\n",
       "    <tr>\n",
       "      <th>21</th>\n",
       "      <td>NaN</td>\n",
       "      <td>구로구</td>\n",
       "      <td>171,570</td>\n",
       "      <td>441,559</td>\n",
       "      <td>221,386</td>\n",
       "      <td>220,173</td>\n",
       "      <td>410,742</td>\n",
       "      <td>204,003</td>\n",
       "      <td>206,739</td>\n",
       "      <td>30,817</td>\n",
       "      <td>...</td>\n",
       "      <td>NaN</td>\n",
       "      <td>NaN</td>\n",
       "      <td>NaN</td>\n",
       "      <td>NaN</td>\n",
       "      <td>NaN</td>\n",
       "      <td>NaN</td>\n",
       "      <td>NaN</td>\n",
       "      <td>NaN</td>\n",
       "      <td>NaN</td>\n",
       "      <td>NaN</td>\n",
       "    </tr>\n",
       "    <tr>\n",
       "      <th>22</th>\n",
       "      <td>NaN</td>\n",
       "      <td>금천구</td>\n",
       "      <td>106,066</td>\n",
       "      <td>253,491</td>\n",
       "      <td>129,775</td>\n",
       "      <td>123,716</td>\n",
       "      <td>235,154</td>\n",
       "      <td>119,497</td>\n",
       "      <td>115,657</td>\n",
       "      <td>18,337</td>\n",
       "      <td>...</td>\n",
       "      <td>NaN</td>\n",
       "      <td>NaN</td>\n",
       "      <td>NaN</td>\n",
       "      <td>NaN</td>\n",
       "      <td>NaN</td>\n",
       "      <td>NaN</td>\n",
       "      <td>NaN</td>\n",
       "      <td>NaN</td>\n",
       "      <td>NaN</td>\n",
       "      <td>NaN</td>\n",
       "    </tr>\n",
       "    <tr>\n",
       "      <th>23</th>\n",
       "      <td>NaN</td>\n",
       "      <td>영등포구</td>\n",
       "      <td>167,355</td>\n",
       "      <td>402,024</td>\n",
       "      <td>202,400</td>\n",
       "      <td>199,624</td>\n",
       "      <td>368,550</td>\n",
       "      <td>183,975</td>\n",
       "      <td>184,575</td>\n",
       "      <td>33,474</td>\n",
       "      <td>...</td>\n",
       "      <td>NaN</td>\n",
       "      <td>NaN</td>\n",
       "      <td>NaN</td>\n",
       "      <td>NaN</td>\n",
       "      <td>NaN</td>\n",
       "      <td>NaN</td>\n",
       "      <td>NaN</td>\n",
       "      <td>NaN</td>\n",
       "      <td>NaN</td>\n",
       "      <td>NaN</td>\n",
       "    </tr>\n",
       "    <tr>\n",
       "      <th>24</th>\n",
       "      <td>NaN</td>\n",
       "      <td>동작구</td>\n",
       "      <td>172,995</td>\n",
       "      <td>408,493</td>\n",
       "      <td>198,827</td>\n",
       "      <td>209,666</td>\n",
       "      <td>396,217</td>\n",
       "      <td>193,255</td>\n",
       "      <td>202,962</td>\n",
       "      <td>12,276</td>\n",
       "      <td>...</td>\n",
       "      <td>NaN</td>\n",
       "      <td>NaN</td>\n",
       "      <td>NaN</td>\n",
       "      <td>NaN</td>\n",
       "      <td>NaN</td>\n",
       "      <td>NaN</td>\n",
       "      <td>NaN</td>\n",
       "      <td>NaN</td>\n",
       "      <td>NaN</td>\n",
       "      <td>NaN</td>\n",
       "    </tr>\n",
       "    <tr>\n",
       "      <th>25</th>\n",
       "      <td>NaN</td>\n",
       "      <td>관악구</td>\n",
       "      <td>255,352</td>\n",
       "      <td>520,929</td>\n",
       "      <td>262,006</td>\n",
       "      <td>258,923</td>\n",
       "      <td>503,297</td>\n",
       "      <td>253,661</td>\n",
       "      <td>249,636</td>\n",
       "      <td>17,632</td>\n",
       "      <td>...</td>\n",
       "      <td>NaN</td>\n",
       "      <td>NaN</td>\n",
       "      <td>NaN</td>\n",
       "      <td>NaN</td>\n",
       "      <td>NaN</td>\n",
       "      <td>NaN</td>\n",
       "      <td>NaN</td>\n",
       "      <td>NaN</td>\n",
       "      <td>NaN</td>\n",
       "      <td>NaN</td>\n",
       "    </tr>\n",
       "    <tr>\n",
       "      <th>26</th>\n",
       "      <td>NaN</td>\n",
       "      <td>서초구</td>\n",
       "      <td>173,594</td>\n",
       "      <td>445,401</td>\n",
       "      <td>213,422</td>\n",
       "      <td>231,979</td>\n",
       "      <td>441,102</td>\n",
       "      <td>211,236</td>\n",
       "      <td>229,866</td>\n",
       "      <td>4,299</td>\n",
       "      <td>...</td>\n",
       "      <td>NaN</td>\n",
       "      <td>NaN</td>\n",
       "      <td>NaN</td>\n",
       "      <td>NaN</td>\n",
       "      <td>NaN</td>\n",
       "      <td>NaN</td>\n",
       "      <td>NaN</td>\n",
       "      <td>NaN</td>\n",
       "      <td>NaN</td>\n",
       "      <td>NaN</td>\n",
       "    </tr>\n",
       "    <tr>\n",
       "      <th>27</th>\n",
       "      <td>NaN</td>\n",
       "      <td>강남구</td>\n",
       "      <td>231,612</td>\n",
       "      <td>561,052</td>\n",
       "      <td>268,941</td>\n",
       "      <td>292,111</td>\n",
       "      <td>556,164</td>\n",
       "      <td>266,442</td>\n",
       "      <td>289,722</td>\n",
       "      <td>4,888</td>\n",
       "      <td>...</td>\n",
       "      <td>NaN</td>\n",
       "      <td>NaN</td>\n",
       "      <td>NaN</td>\n",
       "      <td>NaN</td>\n",
       "      <td>NaN</td>\n",
       "      <td>NaN</td>\n",
       "      <td>NaN</td>\n",
       "      <td>NaN</td>\n",
       "      <td>NaN</td>\n",
       "      <td>NaN</td>\n",
       "    </tr>\n",
       "    <tr>\n",
       "      <th>28</th>\n",
       "      <td>NaN</td>\n",
       "      <td>송파구</td>\n",
       "      <td>264,628</td>\n",
       "      <td>671,173</td>\n",
       "      <td>326,407</td>\n",
       "      <td>344,766</td>\n",
       "      <td>664,496</td>\n",
       "      <td>323,147</td>\n",
       "      <td>341,349</td>\n",
       "      <td>6,677</td>\n",
       "      <td>...</td>\n",
       "      <td>NaN</td>\n",
       "      <td>NaN</td>\n",
       "      <td>NaN</td>\n",
       "      <td>NaN</td>\n",
       "      <td>NaN</td>\n",
       "      <td>NaN</td>\n",
       "      <td>NaN</td>\n",
       "      <td>NaN</td>\n",
       "      <td>NaN</td>\n",
       "      <td>NaN</td>\n",
       "    </tr>\n",
       "    <tr>\n",
       "      <th>29</th>\n",
       "      <td>NaN</td>\n",
       "      <td>강동구</td>\n",
       "      <td>177,407</td>\n",
       "      <td>440,359</td>\n",
       "      <td>218,699</td>\n",
       "      <td>221,660</td>\n",
       "      <td>436,223</td>\n",
       "      <td>216,777</td>\n",
       "      <td>219,446</td>\n",
       "      <td>4,136</td>\n",
       "      <td>...</td>\n",
       "      <td>NaN</td>\n",
       "      <td>NaN</td>\n",
       "      <td>NaN</td>\n",
       "      <td>NaN</td>\n",
       "      <td>NaN</td>\n",
       "      <td>NaN</td>\n",
       "      <td>NaN</td>\n",
       "      <td>NaN</td>\n",
       "      <td>NaN</td>\n",
       "      <td>NaN</td>\n",
       "    </tr>\n",
       "  </tbody>\n",
       "</table>\n",
       "<p>30 rows × 36 columns</p>\n",
       "</div>"
      ],
      "text/plain": [
       "   Unnamed: 0 2-1. 세대 및 인구상세   Unnamed: 2     Unnamed: 3   Unnamed: 4  \\\n",
       "0         NaN            NaN          NaN            NaN          NaN   \n",
       "1         NaN       * 행정동 기준          NaN            NaN          NaN   \n",
       "2         NaN           구 분         세  대   총     인     구          NaN   \n",
       "3          그룹            NaN          NaN              계            남   \n",
       "4         NaN         서울특별시    4,220,082     10,124,579    4,957,857    \n",
       "5         NaN          종로구        73,594        164,257       80,094    \n",
       "6         NaN            중구       60,412        134,593       66,337    \n",
       "7         NaN           용산구      107,666        244,444      119,423    \n",
       "8         NaN           성동구      132,902        312,711      154,077    \n",
       "9         NaN           광진구      160,798        372,298      180,645    \n",
       "10        NaN          동대문구      159,938        366,011      181,185    \n",
       "11        NaN           중랑구      179,132        412,780      205,125    \n",
       "12        NaN           성북구      187,112        455,407      221,103    \n",
       "13        NaN           강북구      142,533        328,002      160,252    \n",
       "14        NaN           도봉구      137,378        346,234      169,553    \n",
       "15        NaN           노원구      217,619        558,075      271,025    \n",
       "16        NaN           은평구      202,839        491,202      238,223    \n",
       "17        NaN          서대문구      137,266        325,028      155,250    \n",
       "18        NaN           마포구      169,408        385,783      183,248    \n",
       "19        NaN           양천구      176,649        475,018      234,279    \n",
       "20        NaN           강서구      254,257        608,255      296,175    \n",
       "21        NaN           구로구      171,570        441,559      221,386    \n",
       "22        NaN           금천구      106,066        253,491      129,775    \n",
       "23        NaN          영등포구      167,355        402,024      202,400    \n",
       "24        NaN           동작구      172,995        408,493      198,827    \n",
       "25        NaN           관악구      255,352        520,929      262,006    \n",
       "26        NaN           서초구      173,594        445,401      213,422    \n",
       "27        NaN           강남구      231,612        561,052      268,941    \n",
       "28        NaN           송파구      264,628        671,173      326,407    \n",
       "29        NaN           강동구      177,407        440,359      218,699    \n",
       "\n",
       "     Unnamed: 5      Unnamed: 6   Unnamed: 7   Unnamed: 8     Unnamed: 9  \\\n",
       "0           NaN             NaN          NaN          NaN            NaN   \n",
       "1           NaN             NaN          NaN          NaN            NaN   \n",
       "2           NaN  내     국      인          NaN          NaN  외     국     인   \n",
       "3             여               계            남            여              계   \n",
       "4    5,166,722       9,857,426    4,830,206    5,027,220        267,153    \n",
       "5       84,163         154,770       75,967       78,803          9,487    \n",
       "6       68,256         125,709       62,253       63,456          8,884    \n",
       "7      125,021         229,161      110,878      118,283         15,283    \n",
       "8      158,634         304,808      150,368      154,440          7,903    \n",
       "9      191,653         357,703      174,414      183,289         14,595    \n",
       "10     184,826         350,647      175,324      175,323         15,364    \n",
       "11     207,655         408,226      203,325      204,901          4,554    \n",
       "12     234,304         444,055      216,556      227,499         11,352    \n",
       "13     167,750         324,479      158,918      165,561          3,523    \n",
       "14     176,681         344,166      168,759      175,407          2,068    \n",
       "15     287,050         554,403      269,508      284,895          3,672    \n",
       "16     252,979         486,794      236,353      250,441          4,408    \n",
       "17     169,778         312,800      151,144      161,656         12,228    \n",
       "18     202,535         374,915      178,939      195,976         10,868    \n",
       "19     240,739         471,154      232,518      238,636          3,864    \n",
       "20     312,080         601,691      292,989      308,702          6,564    \n",
       "21     220,173         410,742      204,003      206,739         30,817    \n",
       "22     123,716         235,154      119,497      115,657         18,337    \n",
       "23     199,624         368,550      183,975      184,575         33,474    \n",
       "24     209,666         396,217      193,255      202,962         12,276    \n",
       "25     258,923         503,297      253,661      249,636         17,632    \n",
       "26     231,979         441,102      211,236      229,866          4,299    \n",
       "27     292,111         556,164      266,442      289,722          4,888    \n",
       "28     344,766         664,496      323,147      341,349          6,677    \n",
       "29     221,660         436,223      216,777      219,446          4,136    \n",
       "\n",
       "       ...     Unnamed: 26 Unnamed: 27 Unnamed: 28  Unnamed: 29 Unnamed: 30  \\\n",
       "0      ...             NaN         NaN         NaN          NaN         NaN   \n",
       "1      ...             NaN         NaN         NaN          NaN         NaN   \n",
       "2      ...             NaN         NaN         NaN          NaN         NaN   \n",
       "3      ...             NaN         NaN         NaN          NaN         NaN   \n",
       "4      ...             NaN         NaN         NaN          NaN         NaN   \n",
       "5      ...             NaN         NaN         NaN          NaN         NaN   \n",
       "6      ...             NaN         NaN         NaN          NaN         NaN   \n",
       "7      ...             NaN         NaN         NaN          NaN         NaN   \n",
       "8      ...             NaN         NaN         NaN          NaN         NaN   \n",
       "9      ...             NaN         NaN         NaN          NaN         NaN   \n",
       "10     ...             NaN         NaN         NaN          NaN         NaN   \n",
       "11     ...             NaN         NaN         NaN          NaN         NaN   \n",
       "12     ...             NaN         NaN         NaN          NaN         NaN   \n",
       "13     ...             NaN         NaN         NaN          NaN         NaN   \n",
       "14     ...             NaN         NaN         NaN          NaN         NaN   \n",
       "15     ...             NaN         NaN         NaN          NaN         NaN   \n",
       "16     ...             NaN         NaN         NaN          NaN         NaN   \n",
       "17     ...             NaN         NaN         NaN          NaN         NaN   \n",
       "18     ...             NaN         NaN         NaN          NaN         NaN   \n",
       "19     ...             NaN         NaN         NaN          NaN         NaN   \n",
       "20     ...             NaN         NaN         NaN          NaN         NaN   \n",
       "21     ...             NaN         NaN         NaN          NaN         NaN   \n",
       "22     ...             NaN         NaN         NaN          NaN         NaN   \n",
       "23     ...             NaN         NaN         NaN          NaN         NaN   \n",
       "24     ...             NaN         NaN         NaN          NaN         NaN   \n",
       "25     ...             NaN         NaN         NaN          NaN         NaN   \n",
       "26     ...             NaN         NaN         NaN          NaN         NaN   \n",
       "27     ...             NaN         NaN         NaN          NaN         NaN   \n",
       "28     ...             NaN         NaN         NaN          NaN         NaN   \n",
       "29     ...             NaN         NaN         NaN          NaN         NaN   \n",
       "\n",
       "   Unnamed: 31 Unnamed: 32 Unnamed: 33 Unnamed: 34 Unnamed: 35  \n",
       "0          NaN         NaN         NaN         NaN         NaN  \n",
       "1          NaN         NaN         NaN         NaN         NaN  \n",
       "2          NaN         NaN         NaN         NaN         NaN  \n",
       "3          NaN         NaN         NaN         NaN         NaN  \n",
       "4          NaN         NaN         NaN         NaN         NaN  \n",
       "5          NaN         NaN         NaN         NaN         NaN  \n",
       "6          NaN         NaN         NaN         NaN         NaN  \n",
       "7          NaN         NaN         NaN         NaN         NaN  \n",
       "8          NaN         NaN         NaN         NaN         NaN  \n",
       "9          NaN         NaN         NaN         NaN         NaN  \n",
       "10         NaN         NaN         NaN         NaN         NaN  \n",
       "11         NaN         NaN         NaN         NaN         NaN  \n",
       "12         NaN         NaN         NaN         NaN         NaN  \n",
       "13         NaN         NaN         NaN         NaN         NaN  \n",
       "14         NaN         NaN         NaN         NaN         NaN  \n",
       "15         NaN         NaN         NaN         NaN         NaN  \n",
       "16         NaN         NaN         NaN         NaN         NaN  \n",
       "17         NaN         NaN         NaN         NaN         NaN  \n",
       "18         NaN         NaN         NaN         NaN         NaN  \n",
       "19         NaN         NaN         NaN         NaN         NaN  \n",
       "20         NaN         NaN         NaN         NaN         NaN  \n",
       "21         NaN         NaN         NaN         NaN         NaN  \n",
       "22         NaN         NaN         NaN         NaN         NaN  \n",
       "23         NaN         NaN         NaN         NaN         NaN  \n",
       "24         NaN         NaN         NaN         NaN         NaN  \n",
       "25         NaN         NaN         NaN         NaN         NaN  \n",
       "26         NaN         NaN         NaN         NaN         NaN  \n",
       "27         NaN         NaN         NaN         NaN         NaN  \n",
       "28         NaN         NaN         NaN         NaN         NaN  \n",
       "29         NaN         NaN         NaN         NaN         NaN  \n",
       "\n",
       "[30 rows x 36 columns]"
      ]
     },
     "execution_count": 21,
     "metadata": {},
     "output_type": "execute_result"
    }
   ],
   "source": [
    "# 엑셀로 미리 행정동을 제거하고, 노인인구를 넣는다.\n",
    "# (데이터에 맞게 바뀐 코드)\n",
    "pop_Seoul = pd.read_csv('pop_Seoul.csv', encoding='utf-8')\n",
    "pop_Seoul"
   ]
  },
  {
   "cell_type": "code",
   "execution_count": 23,
   "metadata": {},
   "outputs": [
    {
     "data": {
      "text/html": [
       "<div>\n",
       "<style scoped>\n",
       "    .dataframe tbody tr th:only-of-type {\n",
       "        vertical-align: middle;\n",
       "    }\n",
       "\n",
       "    .dataframe tbody tr th {\n",
       "        vertical-align: top;\n",
       "    }\n",
       "\n",
       "    .dataframe thead th {\n",
       "        text-align: right;\n",
       "    }\n",
       "</style>\n",
       "<table border=\"1\" class=\"dataframe\">\n",
       "  <thead>\n",
       "    <tr style=\"text-align: right;\">\n",
       "      <th></th>\n",
       "      <th>Col</th>\n",
       "      <th>col1</th>\n",
       "      <th>col2</th>\n",
       "      <th>col3</th>\n",
       "      <th>col4</th>\n",
       "      <th>col5</th>\n",
       "      <th>col6</th>\n",
       "      <th>col7</th>\n",
       "      <th>col8</th>\n",
       "      <th>col9</th>\n",
       "      <th>col10</th>\n",
       "      <th>col11</th>\n",
       "      <th>col12</th>\n",
       "      <th>col13</th>\n",
       "      <th>col14</th>\n",
       "      <th>col15</th>\n",
       "    </tr>\n",
       "  </thead>\n",
       "  <tbody>\n",
       "    <tr>\n",
       "      <th>0</th>\n",
       "      <td>Seoul</td>\n",
       "      <td>4220082</td>\n",
       "      <td>10124579</td>\n",
       "      <td>4957857</td>\n",
       "      <td>5166722</td>\n",
       "      <td>9857426</td>\n",
       "      <td>4830206</td>\n",
       "      <td>5027220</td>\n",
       "      <td>267153</td>\n",
       "      <td>127651</td>\n",
       "      <td>139502</td>\n",
       "      <td>2.335838</td>\n",
       "      <td>NaN</td>\n",
       "      <td>1365126</td>\n",
       "      <td>602107</td>\n",
       "      <td>763019</td>\n",
       "    </tr>\n",
       "    <tr>\n",
       "      <th>1</th>\n",
       "      <td>Jongro</td>\n",
       "      <td>73594</td>\n",
       "      <td>164257</td>\n",
       "      <td>80094</td>\n",
       "      <td>84163</td>\n",
       "      <td>154770</td>\n",
       "      <td>75967</td>\n",
       "      <td>78803</td>\n",
       "      <td>9487</td>\n",
       "      <td>4127</td>\n",
       "      <td>5360</td>\n",
       "      <td>2.103025</td>\n",
       "      <td>NaN</td>\n",
       "      <td>26182</td>\n",
       "      <td>11441</td>\n",
       "      <td>14741</td>\n",
       "    </tr>\n",
       "    <tr>\n",
       "      <th>2</th>\n",
       "      <td>Chung</td>\n",
       "      <td>60412</td>\n",
       "      <td>134593</td>\n",
       "      <td>66337</td>\n",
       "      <td>68256</td>\n",
       "      <td>125709</td>\n",
       "      <td>62253</td>\n",
       "      <td>63456</td>\n",
       "      <td>8884</td>\n",
       "      <td>4084</td>\n",
       "      <td>4800</td>\n",
       "      <td>2.080861</td>\n",
       "      <td>NaN</td>\n",
       "      <td>21384</td>\n",
       "      <td>9332</td>\n",
       "      <td>12052</td>\n",
       "    </tr>\n",
       "    <tr>\n",
       "      <th>3</th>\n",
       "      <td>Yong</td>\n",
       "      <td>107666</td>\n",
       "      <td>244444</td>\n",
       "      <td>119423</td>\n",
       "      <td>125021</td>\n",
       "      <td>229161</td>\n",
       "      <td>110878</td>\n",
       "      <td>118283</td>\n",
       "      <td>15283</td>\n",
       "      <td>8545</td>\n",
       "      <td>6738</td>\n",
       "      <td>2.128444</td>\n",
       "      <td>NaN</td>\n",
       "      <td>36882</td>\n",
       "      <td>15489</td>\n",
       "      <td>21393</td>\n",
       "    </tr>\n",
       "    <tr>\n",
       "      <th>4</th>\n",
       "      <td>Seoundong</td>\n",
       "      <td>132902</td>\n",
       "      <td>312711</td>\n",
       "      <td>154077</td>\n",
       "      <td>158634</td>\n",
       "      <td>304808</td>\n",
       "      <td>150368</td>\n",
       "      <td>154440</td>\n",
       "      <td>7903</td>\n",
       "      <td>3709</td>\n",
       "      <td>4194</td>\n",
       "      <td>2.293479</td>\n",
       "      <td>NaN</td>\n",
       "      <td>41273</td>\n",
       "      <td>17972</td>\n",
       "      <td>23301</td>\n",
       "    </tr>\n",
       "  </tbody>\n",
       "</table>\n",
       "</div>"
      ],
      "text/plain": [
       "         Col     col1      col2     col3     col4     col5     col6     col7  \\\n",
       "0      Seoul  4220082  10124579  4957857  5166722  9857426  4830206  5027220   \n",
       "1     Jongro    73594    164257    80094    84163   154770    75967    78803   \n",
       "2      Chung    60412    134593    66337    68256   125709    62253    63456   \n",
       "3       Yong   107666    244444   119423   125021   229161   110878   118283   \n",
       "4  Seoundong   132902    312711   154077   158634   304808   150368   154440   \n",
       "\n",
       "     col8    col9   col10     col11  col12    col13   col14   col15  \n",
       "0  267153  127651  139502  2.335838    NaN  1365126  602107  763019  \n",
       "1    9487    4127    5360  2.103025    NaN    26182   11441   14741  \n",
       "2    8884    4084    4800  2.080861    NaN    21384    9332   12052  \n",
       "3   15283    8545    6738  2.128444    NaN    36882   15489   21393  \n",
       "4    7903    3709    4194  2.293479    NaN    41273   17972   23301  "
      ]
     },
     "execution_count": 23,
     "metadata": {},
     "output_type": "execute_result"
    }
   ],
   "source": [
    "# 엑셀로 미리 행정동을 제거하고, 노인인구를 넣는다.\n",
    "# (데이터에 맞게 바뀐 코드)\n",
    "pop_Seoul = pd.read_csv('newPop_Seoul.csv')\n",
    "pop_Seoul.head()"
   ]
  },
  {
   "cell_type": "code",
   "execution_count": 24,
   "metadata": {},
   "outputs": [
    {
     "data": {
      "text/html": [
       "<div>\n",
       "<style scoped>\n",
       "    .dataframe tbody tr th:only-of-type {\n",
       "        vertical-align: middle;\n",
       "    }\n",
       "\n",
       "    .dataframe tbody tr th {\n",
       "        vertical-align: top;\n",
       "    }\n",
       "\n",
       "    .dataframe thead th {\n",
       "        text-align: right;\n",
       "    }\n",
       "</style>\n",
       "<table border=\"1\" class=\"dataframe\">\n",
       "  <thead>\n",
       "    <tr style=\"text-align: right;\">\n",
       "      <th></th>\n",
       "      <th>구별</th>\n",
       "      <th>col1</th>\n",
       "      <th>총인구</th>\n",
       "      <th>col3</th>\n",
       "      <th>col4</th>\n",
       "      <th>내국인</th>\n",
       "      <th>col6</th>\n",
       "      <th>col7</th>\n",
       "      <th>외국인</th>\n",
       "      <th>col9</th>\n",
       "      <th>col10</th>\n",
       "      <th>col11</th>\n",
       "      <th>col12</th>\n",
       "      <th>고령자</th>\n",
       "      <th>col14</th>\n",
       "      <th>col15</th>\n",
       "    </tr>\n",
       "  </thead>\n",
       "  <tbody>\n",
       "    <tr>\n",
       "      <th>0</th>\n",
       "      <td>Seoul</td>\n",
       "      <td>4220082</td>\n",
       "      <td>10124579</td>\n",
       "      <td>4957857</td>\n",
       "      <td>5166722</td>\n",
       "      <td>9857426</td>\n",
       "      <td>4830206</td>\n",
       "      <td>5027220</td>\n",
       "      <td>267153</td>\n",
       "      <td>127651</td>\n",
       "      <td>139502</td>\n",
       "      <td>2.335838</td>\n",
       "      <td>NaN</td>\n",
       "      <td>1365126</td>\n",
       "      <td>602107</td>\n",
       "      <td>763019</td>\n",
       "    </tr>\n",
       "    <tr>\n",
       "      <th>1</th>\n",
       "      <td>Jongro</td>\n",
       "      <td>73594</td>\n",
       "      <td>164257</td>\n",
       "      <td>80094</td>\n",
       "      <td>84163</td>\n",
       "      <td>154770</td>\n",
       "      <td>75967</td>\n",
       "      <td>78803</td>\n",
       "      <td>9487</td>\n",
       "      <td>4127</td>\n",
       "      <td>5360</td>\n",
       "      <td>2.103025</td>\n",
       "      <td>NaN</td>\n",
       "      <td>26182</td>\n",
       "      <td>11441</td>\n",
       "      <td>14741</td>\n",
       "    </tr>\n",
       "    <tr>\n",
       "      <th>2</th>\n",
       "      <td>Chung</td>\n",
       "      <td>60412</td>\n",
       "      <td>134593</td>\n",
       "      <td>66337</td>\n",
       "      <td>68256</td>\n",
       "      <td>125709</td>\n",
       "      <td>62253</td>\n",
       "      <td>63456</td>\n",
       "      <td>8884</td>\n",
       "      <td>4084</td>\n",
       "      <td>4800</td>\n",
       "      <td>2.080861</td>\n",
       "      <td>NaN</td>\n",
       "      <td>21384</td>\n",
       "      <td>9332</td>\n",
       "      <td>12052</td>\n",
       "    </tr>\n",
       "    <tr>\n",
       "      <th>3</th>\n",
       "      <td>Yong</td>\n",
       "      <td>107666</td>\n",
       "      <td>244444</td>\n",
       "      <td>119423</td>\n",
       "      <td>125021</td>\n",
       "      <td>229161</td>\n",
       "      <td>110878</td>\n",
       "      <td>118283</td>\n",
       "      <td>15283</td>\n",
       "      <td>8545</td>\n",
       "      <td>6738</td>\n",
       "      <td>2.128444</td>\n",
       "      <td>NaN</td>\n",
       "      <td>36882</td>\n",
       "      <td>15489</td>\n",
       "      <td>21393</td>\n",
       "    </tr>\n",
       "    <tr>\n",
       "      <th>4</th>\n",
       "      <td>Seoundong</td>\n",
       "      <td>132902</td>\n",
       "      <td>312711</td>\n",
       "      <td>154077</td>\n",
       "      <td>158634</td>\n",
       "      <td>304808</td>\n",
       "      <td>150368</td>\n",
       "      <td>154440</td>\n",
       "      <td>7903</td>\n",
       "      <td>3709</td>\n",
       "      <td>4194</td>\n",
       "      <td>2.293479</td>\n",
       "      <td>NaN</td>\n",
       "      <td>41273</td>\n",
       "      <td>17972</td>\n",
       "      <td>23301</td>\n",
       "    </tr>\n",
       "  </tbody>\n",
       "</table>\n",
       "</div>"
      ],
      "text/plain": [
       "          구별     col1       총인구     col3     col4      내국인     col6     col7  \\\n",
       "0      Seoul  4220082  10124579  4957857  5166722  9857426  4830206  5027220   \n",
       "1     Jongro    73594    164257    80094    84163   154770    75967    78803   \n",
       "2      Chung    60412    134593    66337    68256   125709    62253    63456   \n",
       "3       Yong   107666    244444   119423   125021   229161   110878   118283   \n",
       "4  Seoundong   132902    312711   154077   158634   304808   150368   154440   \n",
       "\n",
       "      외국인    col9   col10     col11  col12      고령자   col14   col15  \n",
       "0  267153  127651  139502  2.335838    NaN  1365126  602107  763019  \n",
       "1    9487    4127    5360  2.103025    NaN    26182   11441   14741  \n",
       "2    8884    4084    4800  2.080861    NaN    21384    9332   12052  \n",
       "3   15283    8545    6738  2.128444    NaN    36882   15489   21393  \n",
       "4    7903    3709    4194  2.293479    NaN    41273   17972   23301  "
      ]
     },
     "execution_count": 24,
     "metadata": {},
     "output_type": "execute_result"
    }
   ],
   "source": [
    "# 영문 컬럼명을 바꿈.\n",
    "pop_Seoul.rename(columns={pop_Seoul.columns[0]: '구별', \n",
    "                         pop_Seoul.columns[2]: '총인구', \n",
    "                         pop_Seoul.columns[5]: '내국인', \n",
    "                         pop_Seoul.columns[8]: '외국인', \n",
    "                         pop_Seoul.columns[13]: '고령자', \n",
    "                         }, inplace=True)\n",
    "pop_Seoul.head()"
   ]
  },
  {
   "cell_type": "code",
   "execution_count": 29,
   "metadata": {},
   "outputs": [
    {
     "data": {
      "text/html": [
       "<div>\n",
       "<style scoped>\n",
       "    .dataframe tbody tr th:only-of-type {\n",
       "        vertical-align: middle;\n",
       "    }\n",
       "\n",
       "    .dataframe tbody tr th {\n",
       "        vertical-align: top;\n",
       "    }\n",
       "\n",
       "    .dataframe thead th {\n",
       "        text-align: right;\n",
       "    }\n",
       "</style>\n",
       "<table border=\"1\" class=\"dataframe\">\n",
       "  <thead>\n",
       "    <tr style=\"text-align: right;\">\n",
       "      <th></th>\n",
       "      <th>구별</th>\n",
       "      <th>총인구</th>\n",
       "      <th>내국인</th>\n",
       "      <th>외국인</th>\n",
       "      <th>고령자</th>\n",
       "    </tr>\n",
       "  </thead>\n",
       "  <tbody>\n",
       "    <tr>\n",
       "      <th>0</th>\n",
       "      <td>Seoul</td>\n",
       "      <td>10124579</td>\n",
       "      <td>9857426</td>\n",
       "      <td>267153</td>\n",
       "      <td>1365126</td>\n",
       "    </tr>\n",
       "    <tr>\n",
       "      <th>1</th>\n",
       "      <td>Jongro</td>\n",
       "      <td>164257</td>\n",
       "      <td>154770</td>\n",
       "      <td>9487</td>\n",
       "      <td>26182</td>\n",
       "    </tr>\n",
       "    <tr>\n",
       "      <th>2</th>\n",
       "      <td>Chung</td>\n",
       "      <td>134593</td>\n",
       "      <td>125709</td>\n",
       "      <td>8884</td>\n",
       "      <td>21384</td>\n",
       "    </tr>\n",
       "    <tr>\n",
       "      <th>3</th>\n",
       "      <td>Yong</td>\n",
       "      <td>244444</td>\n",
       "      <td>229161</td>\n",
       "      <td>15283</td>\n",
       "      <td>36882</td>\n",
       "    </tr>\n",
       "    <tr>\n",
       "      <th>4</th>\n",
       "      <td>Seoundong</td>\n",
       "      <td>312711</td>\n",
       "      <td>304808</td>\n",
       "      <td>7903</td>\n",
       "      <td>41273</td>\n",
       "    </tr>\n",
       "  </tbody>\n",
       "</table>\n",
       "</div>"
      ],
      "text/plain": [
       "          구별       총인구      내국인     외국인      고령자\n",
       "0      Seoul  10124579  9857426  267153  1365126\n",
       "1     Jongro    164257   154770    9487    26182\n",
       "2      Chung    134593   125709    8884    21384\n",
       "3       Yong    244444   229161   15283    36882\n",
       "4  Seoundong    312711   304808    7903    41273"
      ]
     },
     "execution_count": 29,
     "metadata": {},
     "output_type": "execute_result"
    }
   ],
   "source": [
    "# 엑셀을 열고 같이 확인해보면서 usecols를 선택해야 한다. 구분(B), 총인구(D), 내국인(G), 외국인(J), 65세 이상 총인구(O) 선택\n",
    "pop_Seoul = pop_Seoul.loc[:,[\"구별\", \"총인구\", \"내국인\", \"외국인\", \"고령자\"]]\n",
    "pop_Seoul.head()"
   ]
  },
  {
   "cell_type": "code",
   "execution_count": null,
   "metadata": {},
   "outputs": [],
   "source": []
  },
  {
   "cell_type": "code",
   "execution_count": null,
   "metadata": {},
   "outputs": [],
   "source": [
    "# 0번째 열 삭제 \n",
    "pop_Seoul = pop_Seoul.iloc[:,1:]\n",
    "pop_Seoul.head()"
   ]
  },
  {
   "cell_type": "markdown",
   "metadata": {},
   "source": [
    "# 3. Pandas 기초"
   ]
  },
  {
   "cell_type": "code",
   "execution_count": null,
   "metadata": {
    "collapsed": true
   },
   "outputs": [],
   "source": [
    "import pandas as pd\n",
    "import numpy as np"
   ]
  },
  {
   "cell_type": "code",
   "execution_count": null,
   "metadata": {},
   "outputs": [],
   "source": [
    "# 컬럼 슬라이싱\n"
   ]
  },
  {
   "cell_type": "markdown",
   "metadata": {},
   "source": [
    "### loc 옵션:(행번호 + 열이름으로 조회해보고 싶을 때)\n",
    "- loc는 location 옵션으로 슬라이싱할 때 loc 옵션을 이용해서 위치 값을 지정할 수 있다.\n",
    "- [행,열] 구조로 이루어지며, 행은 숫자로, 열은 문자로 지정해야 한다.\n",
    "- 복수의 열을 지정시 ['A', 'B', 'C']의 구조로 만들어서 pd.loc[:, ['A','B','C']] 구조가 되어야 한다."
   ]
  },
  {
   "cell_type": "code",
   "execution_count": null,
   "metadata": {},
   "outputs": [],
   "source": [
    "# 인덱스는 모두(:), 컬럼은 ['구별','인구수']만\n"
   ]
  },
  {
   "cell_type": "code",
   "execution_count": null,
   "metadata": {},
   "outputs": [],
   "source": [
    "# 두번째행부터 10번째까지\n"
   ]
  },
  {
   "cell_type": "code",
   "execution_count": null,
   "metadata": {},
   "outputs": [],
   "source": [
    "# 하나의 행만\n"
   ]
  },
  {
   "cell_type": "markdown",
   "metadata": {},
   "source": [
    "### iloc 옵션(행번호 + 열번호로 조회하고 싶을 때)\n",
    "- iloc는 integer location 옵션으로 loc와 달리 행과 열의 번호를 이용해서 데이터에 바로 접근할 때 사용한다.\n",
    "- iloc을 사용하면 행이나 열의 범위를 지정하면 된다. 특히 콜론(:)을 사용하면 전체를 의미한다.?"
   ]
  },
  {
   "cell_type": "code",
   "execution_count": null,
   "metadata": {},
   "outputs": [],
   "source": []
  },
  {
   "cell_type": "code",
   "execution_count": null,
   "metadata": {},
   "outputs": [],
   "source": []
  },
  {
   "cell_type": "code",
   "execution_count": null,
   "metadata": {},
   "outputs": [],
   "source": [
    "# 복수의 행, 열을 선택할 때는 내부에 [] 구조로 만들어야 한다.\n"
   ]
  },
  {
   "cell_type": "code",
   "execution_count": null,
   "metadata": {},
   "outputs": [],
   "source": []
  },
  {
   "cell_type": "code",
   "execution_count": null,
   "metadata": {},
   "outputs": [],
   "source": []
  },
  {
   "cell_type": "code",
   "execution_count": null,
   "metadata": {},
   "outputs": [],
   "source": []
  },
  {
   "cell_type": "markdown",
   "metadata": {},
   "source": [
    "### 쿼리를 통한 데이터 검색\n",
    "- 키워드에 데이터를 조회해오는 .query()"
   ]
  },
  {
   "cell_type": "code",
   "execution_count": 1,
   "metadata": {},
   "outputs": [],
   "source": [
    "# 개별 검색\n"
   ]
  },
  {
   "cell_type": "markdown",
   "metadata": {},
   "source": [
    "### 조건을 만족하는 데이터 검색"
   ]
  },
  {
   "cell_type": "code",
   "execution_count": 2,
   "metadata": {},
   "outputs": [],
   "source": [
    "# 전체 데이터에서 조건에 해당되지 않으면 NaN 처리함.\n"
   ]
  },
  {
   "cell_type": "code",
   "execution_count": 3,
   "metadata": {},
   "outputs": [],
   "source": [
    "# 인구수가 40만명을 넘는가? 넘는 것만 남기기\n"
   ]
  },
  {
   "cell_type": "markdown",
   "metadata": {},
   "source": [
    "### 새로운 열을 생성하기\n",
    "- 새로운 열을 만들 때는 data['새 열이름'] = 값"
   ]
  },
  {
   "cell_type": "code",
   "execution_count": 4,
   "metadata": {
    "collapsed": true
   },
   "outputs": [],
   "source": [
    "# pop_Seoul2라는 이름으로 pop_Seoul 복사하기\n"
   ]
  },
  {
   "cell_type": "code",
   "execution_count": 5,
   "metadata": {},
   "outputs": [],
   "source": [
    "# 새로운 열을 만들 때는 data['새 열이름'] = 값\n"
   ]
  },
  {
   "cell_type": "markdown",
   "metadata": {},
   "source": [
    "- isin()함수는 데이터에 해당값이 있는지를 참거짓으로 반환한다."
   ]
  },
  {
   "cell_type": "code",
   "execution_count": null,
   "metadata": {},
   "outputs": [],
   "source": []
  },
  {
   "cell_type": "markdown",
   "metadata": {},
   "source": [
    "#### 참이 나오는 전체 행을 조회하기"
   ]
  },
  {
   "cell_type": "code",
   "execution_count": 6,
   "metadata": {},
   "outputs": [],
   "source": [
    "# isin()함수\n"
   ]
  },
  {
   "cell_type": "code",
   "execution_count": null,
   "metadata": {},
   "outputs": [],
   "source": []
  },
  {
   "cell_type": "markdown",
   "metadata": {},
   "source": [
    "### One-line 함수 lambda\n",
    "- lambda는 함수를 생성할 때 사용하는 예약어로, def와 동일한 역할을 한다. \n",
    "- 보통 함수를 한줄로 간결하게 만들 때 사용한다. 우리말로는 \"람다\"라고 읽고 def를 사용해야 할 정도로 복잡하지 않거나 def를 사용할 수 없는 곳에 주로 쓰인다.\n",
    "- lambda 인수1, 인수2, ... : 인수를 이용한 표현식"
   ]
  },
  {
   "cell_type": "code",
   "execution_count": 7,
   "metadata": {},
   "outputs": [],
   "source": [
    "# 각 열 마다의 최대값과 최소값의 차이를 구해줌\n"
   ]
  },
  {
   "cell_type": "markdown",
   "metadata": {},
   "source": [
    "# 4. CCTV 데이터 파악하기"
   ]
  },
  {
   "cell_type": "code",
   "execution_count": null,
   "metadata": {},
   "outputs": [],
   "source": []
  },
  {
   "cell_type": "code",
   "execution_count": 9,
   "metadata": {},
   "outputs": [],
   "source": [
    "# 구별 CCTV 데이터에서 CCTV 전체 개수인 소계로 정렬하기1\n"
   ]
  },
  {
   "cell_type": "markdown",
   "metadata": {},
   "source": [
    "##### CCTV의 전체 개수가 가장 작은 구는 '도봉구', '강북구', '광진구', '강서구', '중랑구' 순임.\n",
    "##### 특이점은 강남 3구중 하나인 '송파구'가 뒤에서 9위에 랭크"
   ]
  },
  {
   "cell_type": "code",
   "execution_count": 10,
   "metadata": {},
   "outputs": [],
   "source": [
    "# 구별 CCTV 데이터에서 CCTV 전체 개수인 소계로 정렬하기2\n",
    "\n",
    "# ascending이 False이면 오름차순(큰 것부터 시작)"
   ]
  },
  {
   "cell_type": "markdown",
   "metadata": {},
   "source": [
    "##### \n",
    "##### "
   ]
  },
  {
   "cell_type": "markdown",
   "metadata": {},
   "source": [
    "#### 조금 더 쪼개어 살펴보자. \n",
    "##### 최근증가율 = 2014년부터 2016년까지 최근 3년간 CCTV 수 / 2013년 이전 CCTV 수 * 100"
   ]
  },
  {
   "cell_type": "code",
   "execution_count": null,
   "metadata": {},
   "outputs": [],
   "source": []
  },
  {
   "cell_type": "markdown",
   "metadata": {},
   "source": [
    "##### "
   ]
  },
  {
   "cell_type": "markdown",
   "metadata": {},
   "source": [
    "# 5. 서울시 인구 데이터 파악하기"
   ]
  },
  {
   "cell_type": "code",
   "execution_count": null,
   "metadata": {},
   "outputs": [],
   "source": [
    "pop_Seoul.head()"
   ]
  },
  {
   "cell_type": "code",
   "execution_count": null,
   "metadata": {},
   "outputs": [],
   "source": [
    "# 서울시 전체 데이터인 첫행을 날린다.\n",
    "# 0번째 행인 서울시 전체 데이터를 날림.\n"
   ]
  },
  {
   "cell_type": "code",
   "execution_count": null,
   "metadata": {},
   "outputs": [],
   "source": [
    "# unique 함수는 1번 이상 나타난 데이터를 식별한다.\n"
   ]
  },
  {
   "cell_type": "code",
   "execution_count": null,
   "metadata": {},
   "outputs": [],
   "source": [
    "# isnull 함수를 사용하여 NaN 데이터를 추출해낼 수 있다.\n"
   ]
  },
  {
   "cell_type": "code",
   "execution_count": null,
   "metadata": {},
   "outputs": [],
   "source": [
    "# drop 함수를 사용하여 NaN이 있는 행을 삭제할 수 있다.\n",
    "# pop_Seoul.drop([26], inplace=True)\n",
    "# pop_Seoul.head()"
   ]
  },
  {
   "cell_type": "markdown",
   "metadata": {},
   "source": [
    "##### 데이터 추가\n",
    "- 분석에 필요한 데이터를 추가한다.\n",
    "- 외국인 비율 & 고령자 비율"
   ]
  },
  {
   "cell_type": "code",
   "execution_count": null,
   "metadata": {},
   "outputs": [],
   "source": []
  },
  {
   "cell_type": "code",
   "execution_count": null,
   "metadata": {},
   "outputs": [],
   "source": [
    "# 인구수로 정렬\n"
   ]
  },
  {
   "cell_type": "code",
   "execution_count": null,
   "metadata": {},
   "outputs": [],
   "source": [
    "# 외국인수로 정렬\n"
   ]
  },
  {
   "cell_type": "code",
   "execution_count": null,
   "metadata": {},
   "outputs": [],
   "source": [
    "# 외국인비율로 정렬\n"
   ]
  },
  {
   "cell_type": "code",
   "execution_count": null,
   "metadata": {},
   "outputs": [],
   "source": [
    "# 고령자로 정렬\n"
   ]
  },
  {
   "cell_type": "code",
   "execution_count": null,
   "metadata": {},
   "outputs": [],
   "source": [
    "# 고령자비율로 정렬\n"
   ]
  },
  {
   "cell_type": "markdown",
   "metadata": {},
   "source": [
    "# 6. Pandas 고급 두 DataFrame 병합하기"
   ]
  },
  {
   "cell_type": "code",
   "execution_count": null,
   "metadata": {
    "collapsed": true
   },
   "outputs": [],
   "source": [
    "df1 = pd.DataFrame({'A': ['A0', 'A1', 'A2', 'A3'], \n",
    "                    'B': ['B0', 'B1', 'B2', 'B3'],\n",
    "                    'C': ['C0', 'C1', 'C2', 'C3'],\n",
    "                    'D': ['D0', 'D1', 'D2', 'D3']},\n",
    "                   index=[0, 1, 2, 3])\n",
    "\n",
    "df2 = pd.DataFrame({'A': ['A4', 'A5', 'A6', 'A7'],\n",
    "                    'B': ['B4', 'B5', 'B6', 'B7'],\n",
    "                    'C': ['C4', 'C5', 'C6', 'C7'],\n",
    "                    'D': ['D4', 'D5', 'D6', 'D7']},\n",
    "                   index=[4, 5, 6, 7])\n",
    "\n",
    "df3 = pd.DataFrame({'A': ['A8', 'A9', 'A10', 'A11'],\n",
    "                    'B': ['B8', 'B9', 'B10', 'B11'],\n",
    "                    'C': ['C8', 'C9', 'C10', 'C11'],\n",
    "                    'D': ['D8', 'D9', 'D10', 'D11']},\n",
    "                   index=[8, 9, 10, 11])"
   ]
  },
  {
   "cell_type": "code",
   "execution_count": null,
   "metadata": {},
   "outputs": [],
   "source": [
    "# 연습용 데이터1\n",
    "df1"
   ]
  },
  {
   "cell_type": "code",
   "execution_count": null,
   "metadata": {},
   "outputs": [],
   "source": [
    "# 연습용 데이터2\n",
    "df2"
   ]
  },
  {
   "cell_type": "code",
   "execution_count": null,
   "metadata": {},
   "outputs": [],
   "source": [
    "# 연습용 데이터3\n",
    "df3"
   ]
  },
  {
   "cell_type": "markdown",
   "metadata": {},
   "source": [
    "### Concat 함수\n",
    "- 특정 축을 따라 Pandas 객체를 연결하고, 다른 축을 따라 선택적 집합 논리를 연결한다.\n",
    "- 연결 축에 계층적 색인 계층을 추가 할 수도 있다. 레이블이 전달된 축 번호와 동일하거나 겹치는 경우 유용 할 수 있다."
   ]
  },
  {
   "cell_type": "code",
   "execution_count": null,
   "metadata": {},
   "outputs": [],
   "source": []
  },
  {
   "cell_type": "code",
   "execution_count": null,
   "metadata": {},
   "outputs": [],
   "source": [
    "# key 옵션을 통해 x,y,z라는 대분류를 지정할 수 있음.\n"
   ]
  },
  {
   "cell_type": "code",
   "execution_count": null,
   "metadata": {},
   "outputs": [],
   "source": []
  },
  {
   "cell_type": "code",
   "execution_count": null,
   "metadata": {},
   "outputs": [],
   "source": [
    "# 레벨0\n"
   ]
  },
  {
   "cell_type": "code",
   "execution_count": null,
   "metadata": {},
   "outputs": [],
   "source": [
    "# 레벨1\n"
   ]
  },
  {
   "cell_type": "code",
   "execution_count": null,
   "metadata": {},
   "outputs": [],
   "source": []
  },
  {
   "cell_type": "code",
   "execution_count": null,
   "metadata": {
    "collapsed": true
   },
   "outputs": [],
   "source": [
    "df4 = pd.DataFrame({'B': ['B2', 'B3', 'B6', 'B7'], \n",
    "                    'D': ['D2', 'D3', 'D6', 'D7'],\n",
    "                    'F': ['F2', 'F3', 'F6', 'F7']},\n",
    "                   index=[2, 3, 6, 7])"
   ]
  },
  {
   "cell_type": "code",
   "execution_count": null,
   "metadata": {},
   "outputs": [],
   "source": [
    "df1"
   ]
  },
  {
   "cell_type": "code",
   "execution_count": null,
   "metadata": {},
   "outputs": [],
   "source": [
    "df4"
   ]
  },
  {
   "cell_type": "code",
   "execution_count": null,
   "metadata": {},
   "outputs": [],
   "source": [
    "# 종으로 연결\n"
   ]
  },
  {
   "cell_type": "code",
   "execution_count": null,
   "metadata": {},
   "outputs": [],
   "source": [
    "# 횡으로 연결\n"
   ]
  },
  {
   "cell_type": "code",
   "execution_count": null,
   "metadata": {},
   "outputs": [],
   "source": [
    "# 횡으로 연결하는데 NaN이 없는 모든 데이터가 있는 영역만 합치기\n"
   ]
  },
  {
   "cell_type": "code",
   "execution_count": null,
   "metadata": {},
   "outputs": [],
   "source": [
    "# df1의 인덱스에 맞추어 df4를 합침.\n"
   ]
  },
  {
   "cell_type": "code",
   "execution_count": null,
   "metadata": {},
   "outputs": [],
   "source": [
    "# 두 데이터를 열 방향으로 index를 무시하고 합친 후 다시 index를 부여한다.\n"
   ]
  },
  {
   "cell_type": "code",
   "execution_count": null,
   "metadata": {
    "collapsed": true
   },
   "outputs": [],
   "source": [
    "left = pd.DataFrame({'key': ['K0', 'K4', 'K2', 'K3'],\n",
    "                     'A': ['A0', 'A1', 'A2', 'A3'],\n",
    "                     'B': ['B0', 'B1', 'B2', 'B3']})\n",
    "\n",
    "right = pd.DataFrame({'key': ['K0', 'K1', 'K2', 'K3'],\n",
    "                      'C': ['C0', 'C1', 'C2', 'C3'],\n",
    "                      'D': ['D0', 'D1', 'D2', 'D3']})"
   ]
  },
  {
   "cell_type": "code",
   "execution_count": null,
   "metadata": {},
   "outputs": [],
   "source": [
    "left"
   ]
  },
  {
   "cell_type": "code",
   "execution_count": null,
   "metadata": {},
   "outputs": [],
   "source": [
    "right"
   ]
  },
  {
   "cell_type": "code",
   "execution_count": null,
   "metadata": {},
   "outputs": [],
   "source": [
    "# key를 기준으로 합친다.\n"
   ]
  },
  {
   "cell_type": "markdown",
   "metadata": {},
   "source": [
    "### merge 함수\n",
    "![그룹연산](data join50.png)"
   ]
  },
  {
   "cell_type": "code",
   "execution_count": null,
   "metadata": {},
   "outputs": [],
   "source": [
    "pd.merge(left, right, how='inner', on='key')"
   ]
  },
  {
   "cell_type": "code",
   "execution_count": null,
   "metadata": {},
   "outputs": [],
   "source": [
    "pd.merge(left, right, how='outer', on='key')"
   ]
  },
  {
   "cell_type": "code",
   "execution_count": null,
   "metadata": {},
   "outputs": [],
   "source": [
    "pd.merge(left, right, how='left', on='key')"
   ]
  },
  {
   "cell_type": "code",
   "execution_count": null,
   "metadata": {},
   "outputs": [],
   "source": [
    "pd.merge(left, right, how='right', on='key')"
   ]
  },
  {
   "cell_type": "markdown",
   "metadata": {},
   "source": [
    "# 7. CCTV 데이터와 인구 데이터 합치고 분석하기"
   ]
  },
  {
   "cell_type": "code",
   "execution_count": null,
   "metadata": {},
   "outputs": [],
   "source": [
    "# '구별'을 중심으로 합치기\n"
   ]
  },
  {
   "cell_type": "code",
   "execution_count": null,
   "metadata": {},
   "outputs": [],
   "source": [
    "# 연도별 인구수는 모두 제거\n"
   ]
  },
  {
   "cell_type": "code",
   "execution_count": null,
   "metadata": {},
   "outputs": [],
   "source": [
    "# 그래프 그리기를 위한 set_index\n"
   ]
  },
  {
   "cell_type": "markdown",
   "metadata": {},
   "source": [
    "### 상관분석(Correlation Analysis)\n",
    "- 2개열의 데이터간의 상관관계를 분석하는 것으로, 2개열이 모두 숫자형 데이터로 이루어져있어야 한다.\n",
    "![상관분석1](Corr1.jpg)\n",
    "![상관분석2](Corr2.jpg)"
   ]
  },
  {
   "cell_type": "code",
   "execution_count": null,
   "metadata": {},
   "outputs": [],
   "source": []
  },
  {
   "cell_type": "markdown",
   "metadata": {},
   "source": [
    "##### "
   ]
  },
  {
   "cell_type": "code",
   "execution_count": null,
   "metadata": {},
   "outputs": [],
   "source": []
  },
  {
   "cell_type": "markdown",
   "metadata": {},
   "source": [
    "##### "
   ]
  },
  {
   "cell_type": "code",
   "execution_count": null,
   "metadata": {},
   "outputs": [],
   "source": []
  },
  {
   "cell_type": "markdown",
   "metadata": {},
   "source": [
    "##### \n",
    "##### "
   ]
  },
  {
   "cell_type": "code",
   "execution_count": null,
   "metadata": {},
   "outputs": [],
   "source": []
  },
  {
   "cell_type": "code",
   "execution_count": null,
   "metadata": {},
   "outputs": [],
   "source": []
  },
  {
   "cell_type": "markdown",
   "metadata": {},
   "source": [
    "# 8. 그래프 그리기 기초 - matplotlib"
   ]
  },
  {
   "cell_type": "code",
   "execution_count": null,
   "metadata": {
    "collapsed": true
   },
   "outputs": [],
   "source": [
    "# 그래프를 그리는 라이브러리\n",
    "import matplotlib.pyplot as plt\n",
    "# 그래프의 결과를 출력 세션에 나타나게 하는 설정임.\n",
    "%matplotlib inline "
   ]
  },
  {
   "cell_type": "code",
   "execution_count": null,
   "metadata": {},
   "outputs": [],
   "source": [
    "plt.figure()\n",
    "plt.plot([1,2,3,4,5,6,7,8,9,8,7,6,5,4,3,2,1,0], lw=3, label = 'pyramid')\n",
    "plt.grid() # 그리드 적용하기\n",
    "plt.xlabel('X축')       # x축 라벨 적용하기\n",
    "plt.ylabel('Y축')  # y축 라벨 적용하기\n",
    "plt.title('Example of plotting') # 타이틀\n",
    "plt.legend()\n",
    "plt.show()"
   ]
  },
  {
   "cell_type": "markdown",
   "metadata": {},
   "source": [
    "# 9. CCTV와 인구현황 그래프로 분석하기"
   ]
  },
  {
   "cell_type": "markdown",
   "metadata": {},
   "source": [
    "#### 한글 폰트문제 해결\n",
    "- matplotlib이 기본으로 가진 폰트는 한글을 지원하지 않기 때문에 matplotlib의 폰트를 변경할 필요가 있다.\n",
    "- Mac인지 Windows인지 나누어 지원"
   ]
  },
  {
   "cell_type": "code",
   "execution_count": null,
   "metadata": {
    "collapsed": true
   },
   "outputs": [],
   "source": [
    "import platform\n",
    "\n",
    "from matplotlib import font_manager, rc\n",
    "plt.rcParams['axes.unicode_minus'] = False\n",
    "\n",
    "if platform.system() == 'Darwin':\n",
    "    rc('font', family='AppleGothic')\n",
    "elif platform.system() == 'Windows':\n",
    "    path = \"c:/Windows/Fonts/malgun.ttf\"\n",
    "    font_name = font_manager.FontProperties(fname=path).get_name()\n",
    "    rc('font', family=font_name)\n",
    "else:\n",
    "    print('Unknown system... sorry~~~~') "
   ]
  },
  {
   "cell_type": "code",
   "execution_count": null,
   "metadata": {},
   "outputs": [],
   "source": [
    "data_result.head()"
   ]
  },
  {
   "cell_type": "code",
   "execution_count": null,
   "metadata": {},
   "outputs": [],
   "source": [
    "plt.figure()\n",
    "data_result['소계'].plot(kind='barh', grid=True, figsize=(10,10)) # 수평 막대 그래프를, 그리드를 사용하여, 그림 크기를 10*10으로 지정함.\n",
    "plt.show()"
   ]
  },
  {
   "cell_type": "code",
   "execution_count": null,
   "metadata": {},
   "outputs": [],
   "source": [
    "# sort_values 사용\n",
    "data_result['소계'].sort_values().plot(kind='barh', \n",
    "                                     grid=True, figsize=(10,10))\n",
    "plt.show()"
   ]
  },
  {
   "cell_type": "markdown",
   "metadata": {},
   "source": [
    "##### "
   ]
  },
  {
   "cell_type": "code",
   "execution_count": null,
   "metadata": {},
   "outputs": [],
   "source": [
    "# 인구 대비 CCTV 비율을 구한다.\n",
    "data_result['CCTV비율'] = data_result['소계'] / data_result['인구수'] * 100\n",
    "\n",
    "# CCTV 비율을 가지고 수평 막대 그래프를 그린다.\n",
    "data_result['CCTV비율'].sort_values().plot(kind='barh', \n",
    "                                         grid=True, figsize=(10,10))\n",
    "plt.show()"
   ]
  },
  {
   "cell_type": "markdown",
   "metadata": {},
   "source": [
    "##### \n",
    "##### \n",
    "##### "
   ]
  },
  {
   "cell_type": "code",
   "execution_count": null,
   "metadata": {},
   "outputs": [],
   "source": [
    "plt.figure(figsize=(6,6))\n",
    "plt.scatter(data_result['인구수'], data_result['소계'], s=50)\n",
    "plt.xlabel('인구수')\n",
    "plt.ylabel('CCTV')\n",
    "plt.title(\"서울 자치구별 인구수와 CCTV와의 상관관계 산점도\")\n",
    "plt.grid()\n",
    "plt.show()"
   ]
  },
  {
   "cell_type": "markdown",
   "metadata": {},
   "source": [
    "#### 위 데이터를 대표하는 직선을 하나 그려보자.\n",
    "- polyfit과 poly1d 함수를 사용하여 (x, y_linear)와 (x, y_quadratic) 좌표 쌍들에 대해 선형 및 2차 다항식을 만든다.\n",
    "- polyfit 함수를 이용해 지정한 특정 차수의 다항식 계수를 계산하고,\n",
    "- poly1d함수로 그 계수를 사용하여 실제 다항식을 만든다."
   ]
  },
  {
   "cell_type": "code",
   "execution_count": null,
   "metadata": {},
   "outputs": [],
   "source": [
    "# polyfit 함수를 이용해 지정한 특정 차수의 다항식 계수를 계산하고,\n",
    "fp1 = np.polyfit(data_result['인구수'], data_result['소계'], 1)\n",
    "fp1"
   ]
  },
  {
   "cell_type": "code",
   "execution_count": null,
   "metadata": {
    "collapsed": true
   },
   "outputs": [],
   "source": [
    "# poly1d함수로 그 계수를 사용하여 실제 다항식을 만든다.\n",
    "f1 = np.poly1d(fp1) # y축\n",
    "fx = np.linspace(100000, 700000, 100) # x축"
   ]
  },
  {
   "cell_type": "code",
   "execution_count": null,
   "metadata": {},
   "outputs": [],
   "source": [
    "plt.figure(figsize=(10,10))\n",
    "plt.scatter(data_result['인구수'], data_result['소계'], s=50)\n",
    "plt.plot(fx, f1(fx), ls='dashed', lw=3, color='r')\n",
    "plt.xlabel('인구수')\n",
    "plt.ylabel('CCTV')\n",
    "plt.grid()\n",
    "plt.show()"
   ]
  },
  {
   "cell_type": "markdown",
   "metadata": {},
   "source": [
    "# 10. 조금더 설득력 있는 자료 만들기"
   ]
  },
  {
   "cell_type": "code",
   "execution_count": null,
   "metadata": {},
   "outputs": [],
   "source": [
    "fp1 = np.polyfit(data_result['인구수'], data_result['소계'], 1)\n",
    "\n",
    "f1 = np.poly1d(fp1) # y축\n",
    "fx = np.linspace(100000, 700000, 100) # x축\n",
    "\n",
    "# 오차를 추가한다.\n",
    "data_result['오차'] = np.abs(data_result['소계'] - f1(data_result['인구수']))\n",
    "\n",
    "df_sort = data_result.sort_values(by='오차', ascending=False)\n",
    "df_sort.head()"
   ]
  },
  {
   "cell_type": "code",
   "execution_count": null,
   "metadata": {},
   "outputs": [],
   "source": [
    "plt.figure(figsize=(14,10))\n",
    "plt.scatter(data_result['인구수'], data_result['소계'], \n",
    "            c=data_result['오차'], s=50)\n",
    "plt.plot(fx, f1(fx), ls='dashed', lw=3, color='r')\n",
    "\n",
    "for n in range(10):\n",
    "    plt.text(df_sort['인구수'][n]*1.02, df_sort['소계'][n]*0.98, \n",
    "             df_sort.index[n], fontsize=15)\n",
    "    \n",
    "plt.xlabel('인구수')\n",
    "plt.ylabel('인구당비율')\n",
    "plt.colorbar()\n",
    "plt.grid()\n",
    "plt.show()"
   ]
  },
  {
   "cell_type": "markdown",
   "metadata": {},
   "source": [
    "* \n",
    "* \n",
    "* "
   ]
  }
 ],
 "metadata": {
  "anaconda-cloud": {},
  "kernelspec": {
   "display_name": "Python 3",
   "language": "python",
   "name": "python3"
  },
  "language_info": {
   "codemirror_mode": {
    "name": "ipython",
    "version": 3
   },
   "file_extension": ".py",
   "mimetype": "text/x-python",
   "name": "python",
   "nbconvert_exporter": "python",
   "pygments_lexer": "ipython3",
   "version": "3.6.4"
  }
 },
 "nbformat": 4,
 "nbformat_minor": 2
}
